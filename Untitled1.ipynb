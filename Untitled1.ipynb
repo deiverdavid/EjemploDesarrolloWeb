{
  "nbformat": 4,
  "nbformat_minor": 0,
  "metadata": {
    "colab": {
      "name": "Untitled1.ipynb",
      "provenance": [],
      "collapsed_sections": [],
      "authorship_tag": "ABX9TyN5lst60FZgisEP6QHwrSDw",
      "include_colab_link": true
    },
    "kernelspec": {
      "name": "python3",
      "display_name": "Python 3"
    }
  },
  "cells": [
    {
      "cell_type": "markdown",
      "metadata": {
        "id": "view-in-github",
        "colab_type": "text"
      },
      "source": [
        "<a href=\"https://colab.research.google.com/github/deiverdavid/EjemploDesarrolloWeb/blob/master/Untitled1.ipynb\" target=\"_parent\"><img src=\"https://colab.research.google.com/assets/colab-badge.svg\" alt=\"Open In Colab\"/></a>"
      ]
    },
    {
      "cell_type": "code",
      "metadata": {
        "colab": {
          "base_uri": "https://localhost:8080/"
        },
        "id": "_1SazDiFvrq2",
        "outputId": "ff096145-73ce-4634-cb90-153423deeb6e"
      },
      "source": [
        "def DevuelveMax():\r\n",
        "  numUno=int(input(\"Ingrese el número uno: \"))\r\n",
        "  numDos=int(input(\"Ingrese el número dos: \"))\r\n",
        "  if numUno > numDos:\r\n",
        "    return print(\"el número uno es el mayor: \",numUno)\r\n",
        "  else:\r\n",
        "       return print(\"el número dos es el mayor: \",numDos)\r\n",
        "\r\n",
        "\r\n",
        "DevuelveMax() \r\n",
        "\r\n",
        "    "
      ],
      "execution_count": 78,
      "outputs": [
        {
          "output_type": "stream",
          "text": [
            "Ingrese el número uno: 1200\n",
            "Ingrese el número dos: 1201\n",
            "el número dos es el mayor:  1201\n"
          ],
          "name": "stdout"
        }
      ]
    }
  ]
}